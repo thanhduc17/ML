{
 "cells": [
  {
   "cell_type": "code",
   "execution_count": 93,
   "id": "4c052681-0abf-4d65-9f2d-2e7f06465b6e",
   "metadata": {},
   "outputs": [
    {
     "name": "stdout",
     "output_type": "stream",
     "text": [
      "Requirement already satisfied: scikit-learn in c:\\users\\duc\\anaconda3\\envs\\hocmay1\\lib\\site-packages (1.4.1.post1)\n",
      "Requirement already satisfied: numpy<2.0,>=1.19.5 in c:\\users\\duc\\anaconda3\\envs\\hocmay1\\lib\\site-packages (from scikit-learn) (1.26.0)\n",
      "Requirement already satisfied: scipy>=1.6.0 in c:\\users\\duc\\anaconda3\\envs\\hocmay1\\lib\\site-packages (from scikit-learn) (1.11.3)\n",
      "Requirement already satisfied: joblib>=1.2.0 in c:\\users\\duc\\anaconda3\\envs\\hocmay1\\lib\\site-packages (from scikit-learn) (1.2.0)\n",
      "Requirement already satisfied: threadpoolctl>=2.0.0 in c:\\users\\duc\\anaconda3\\envs\\hocmay1\\lib\\site-packages (from scikit-learn) (2.2.0)\n"
     ]
    }
   ],
   "source": [
    "!pip install --upgrade scikit-learn"
   ]
  },
  {
   "cell_type": "code",
   "execution_count": 114,
   "id": "8dca51c0-88fb-4495-9019-751e7129f09e",
   "metadata": {},
   "outputs": [
    {
     "name": "stdout",
     "output_type": "stream",
     "text": [
      "Kết quả dự đoán:\n",
      " [ 632.30457523 1264.60915046 1896.91372569  632.30457523 1264.60915046\n",
      " 1896.91372569]\n"
     ]
    }
   ],
   "source": [
    "import numpy as np\n",
    "\n",
    "def r2_score(y_true, y_pred):\n",
    "    corr_matrix = np.corrcoef(y_true, y_pred)\n",
    "    corr = corr_matrix[0, 1]\n",
    "    return corr ** 2\n",
    "\n",
    "\n",
    "class LinearRegression:\n",
    "    def __init__(self, learning_rate=0.001, n_iters=1000):\n",
    "        self.lr = learning_rate\n",
    "        self.n_iters = n_iters\n",
    "        self.weights = None\n",
    "        self.bias = None\n",
    "\n",
    "    def fit(self, X, y):\n",
    "        n_samples, n_features = X.shape\n",
    "\n",
    "        # init parameters\n",
    "        self.weights = np.zeros(n_features)\n",
    "        self.bias = 0\n",
    "\n",
    "        # gradient descent\n",
    "        for _ in range(self.n_iters):\n",
    "            y_predicted = np.dot(X, self.weights) + self.bias\n",
    "            # compute gradients\n",
    "            dw = (1 / n_samples) * np.dot(X.T, (y_predicted - y))\n",
    "            db = (1 / n_samples) * np.sum(y_predicted - y)\n",
    "\n",
    "            # update parameters\n",
    "            self.weights -= self.lr * dw\n",
    "            self.bias -= self.lr * db\n",
    "\n",
    "    def predict(self, X):\n",
    "        y_approximated = np.dot(X, self.weights) + self.bias\n",
    "        return y_approximated\n",
    "\n",
    "# Dữ liệu đã cho\n",
    "X = np.array([[100.0], [200.0], [300.0], [100.0], [200.0], [300.0]])\n",
    "y = np.array([1000.0, 2000.0, 3000.0, 1000.0, 2000.0, 3000.0])\n",
    "\n",
    "# Chuẩn hóa dữ liệu đầu vào sử dụng StandardScaler\n",
    "scaler = StandardScaler()\n",
    "X_scaled = scaler.fit_transform(X)\n",
    "\n",
    "# Huấn luyện mô hình hồi quy tuyến tính trên toàn bộ dữ liệu\n",
    "regressor = LinearRegression()\n",
    "regressor.fit(X_scaled, y)\n",
    "\n",
    "# Dự đoán trên toàn bộ dữ liệu đã chuẩn hóa\n",
    "predictions = regressor.predict(X_scaled)\n",
    "print(\"Kết quả dự đoán:\\n\", predictions)"
   ]
  },
  {
   "cell_type": "code",
   "execution_count": 116,
   "id": "71aa9747-cb19-411b-8daf-3be2fec5eaff",
   "metadata": {},
   "outputs": [
    {
     "name": "stdout",
     "output_type": "stream",
     "text": [
      "Giá trị dự đoán cho y_p: [948.45686284]\n"
     ]
    }
   ],
   "source": [
    "\n",
    "# Dự đoán y_p cho đầu vào mới x_p\n",
    "x_p = np.array([[150.0]])\n",
    "x_p_scaled = scaler.transform(x_p)\n",
    "y_p = regressor.predict(x_p_scaled)\n",
    "\n",
    "print(\"Giá trị dự đoán cho y_p:\", y_p)"
   ]
  },
  {
   "cell_type": "code",
   "execution_count": null,
   "id": "4d34256f-250b-45b6-bca3-eb2b7c26b3d2",
   "metadata": {},
   "outputs": [],
   "source": []
  }
 ],
 "metadata": {
  "kernelspec": {
   "display_name": "Python 3 (ipykernel)",
   "language": "python",
   "name": "python3"
  },
  "language_info": {
   "codemirror_mode": {
    "name": "ipython",
    "version": 3
   },
   "file_extension": ".py",
   "mimetype": "text/x-python",
   "name": "python",
   "nbconvert_exporter": "python",
   "pygments_lexer": "ipython3",
   "version": "3.11.5"
  }
 },
 "nbformat": 4,
 "nbformat_minor": 5
}
